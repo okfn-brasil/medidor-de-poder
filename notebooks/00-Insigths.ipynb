{
 "cells": [
  {
   "cell_type": "code",
<<<<<<< HEAD
   "execution_count": 5,
=======
   "execution_count": 14,
>>>>>>> update insights
   "metadata": {},
   "outputs": [],
   "source": [
    "import sys\n",
    "\n",
    "sys.path.append('/Users/leportella/src/serenata/medidor-de-poder/api')\n",
    "\n",
    "from decouple import config\n",
    "import pandas as pd\n",
    "import mongoengine as me\n",
    "\n",
<<<<<<< HEAD
    "from print import pprint\n",
    "\n",
=======
>>>>>>> update insights
    "from models import Candidates"
   ]
  },
  {
   "cell_type": "code",
<<<<<<< HEAD
   "execution_count": 2,
=======
   "execution_count": 15,
>>>>>>> update insights
   "metadata": {},
   "outputs": [
    {
     "data": {
      "text/plain": [
<<<<<<< HEAD
       "MongoClient(host=['cluster0-shard-00-02-1wqt1.mongodb.net:27017', 'cluster0-shard-00-01-1wqt1.mongodb.net:27017', 'cluster0-shard-00-00-1wqt1.mongodb.net:27017'], document_class=dict, tz_aware=False, connect=True, ssl=True, replicaset='Cluster0-shard-0', authsource='admin', retrywrites=True, read_preference=Primary())"
      ]
     },
     "execution_count": 2,
=======
       "MongoClient(host=['cluster0-shard-00-02-1wqt1.mongodb.net:27017', 'cluster0-shard-00-00-1wqt1.mongodb.net:27017', 'cluster0-shard-00-01-1wqt1.mongodb.net:27017'], document_class=dict, tz_aware=False, connect=True, ssl=True, replicaset='Cluster0-shard-0', authsource='admin', retrywrites=True, read_preference=Primary())"
      ]
     },
     "execution_count": 15,
>>>>>>> update insights
     "metadata": {},
     "output_type": "execute_result"
    }
   ],
   "source": [
    "me.connect(host=config('MONGO_URL'))"
   ]
  },
  {
   "cell_type": "markdown",
   "metadata": {},
   "source": [
    "# Sessions Abstent by Year\n",
    "\n",
    "The total number of sessions considered the sessions the deputy was present and sessions the deputy was abstent during the selected year. So the abstent percent is calculated by:\n",
    "\n",
    "abstent_percent = number_abstent / (number_abstent + number_present)"
   ]
  },
  {
   "cell_type": "code",
<<<<<<< HEAD
   "execution_count": 10,
=======
   "execution_count": 16,
>>>>>>> update insights
   "metadata": {},
   "outputs": [
    {
     "name": "stdout",
     "output_type": "stream",
     "text": [
      "NAME:  NELSON VICENTE PORTELA PELLEGRINO\n",
      "ABSTENT: 0.50%\n",
      "PERCENT JUSTIFIED: 0.50%\n",
      "-\n",
      "NAME:  WLADIMIR AFONSO DA COSTA RABELO\n",
      "ABSTENT: 0.84%\n",
      "PERCENT JUSTIFIED: 0.96%\n",
      "-\n",
      "NAME:  AROLDE DE OLIVEIRA\n",
      "ABSTENT: 0.70%\n",
      "PERCENT JUSTIFIED: 0.43%\n",
      "-\n",
      "NAME:  PAULO SALIM MALUF\n",
      "ABSTENT: 0.54%\n",
      "PERCENT JUSTIFIED: 0.99%\n",
      "-\n"
     ]
    },
    {
     "name": "stderr",
     "output_type": "stream",
     "text": [
      "/Users/leportella/.virtualenvs/serenata/lib/python3.6/site-packages/ipykernel_launcher.py:1: DeprecationWarning: generator 'QuerySet._iter_results' raised StopIteration\n",
      "  \"\"\"Entry point for launching an IPython kernel.\n"
     ]
    }
   ],
   "source": [
    "for c in Candidates.objects.filter(sessions_presence__year_2015__abstent_percent__gte=0.5):\n",
    "    name = c.civil_name\n",
    "    abstent = c.sessions_presence.year_2015.abstent_percent\n",
    "    justified = c.sessions_presence.year_2015.abstent_with_justification_percent\n",
    "    \n",
    "    print('NAME: ', name)\n",
    "    print('ABSTENT: {0:.2f}%'.format(abstent))\n",
    "    print('PERCENT JUSTIFIED: {0:.2f}%'.format(justified))\n",
    "    print('-')"
   ]
  },
  {
   "cell_type": "code",
<<<<<<< HEAD
   "execution_count": 11,
=======
   "execution_count": 17,
>>>>>>> update insights
   "metadata": {},
   "outputs": [
    {
     "name": "stdout",
     "output_type": "stream",
     "text": [
      "NAME:  ELCIONE THEREZINHA ZAHLUTH BARBALHO\n",
      "ABSTENT: 0.54%\n",
      "PERCENT JUSTIFIED: 0.85%\n",
      "-\n"
     ]
    },
    {
     "name": "stderr",
     "output_type": "stream",
     "text": [
      "/Users/leportella/.virtualenvs/serenata/lib/python3.6/site-packages/ipykernel_launcher.py:1: DeprecationWarning: generator 'QuerySet._iter_results' raised StopIteration\n",
      "  \"\"\"Entry point for launching an IPython kernel.\n"
     ]
    }
   ],
   "source": [
    "for c in Candidates.objects.filter(sessions_presence__year_2016__abstent_percent__gte=0.5):\n",
    "    name = c.civil_name\n",
    "    abstent = c.sessions_presence.year_2016.abstent_percent\n",
    "    justified = c.sessions_presence.year_2016.abstent_with_justification_percent\n",
    "    \n",
    "    print('NAME: ', name)\n",
    "    print('ABSTENT: {0:.2f}%'.format(abstent))\n",
    "    print('PERCENT JUSTIFIED: {0:.2f}%'.format(justified))\n",
    "    print('-')"
   ]
  },
  {
   "cell_type": "code",
<<<<<<< HEAD
   "execution_count": 12,
=======
   "execution_count": 18,
>>>>>>> update insights
   "metadata": {},
   "outputs": [
    {
     "name": "stdout",
     "output_type": "stream",
     "text": [
      "NAME:  ANTONIO LAZARO SILVA\n",
      "ABSTENT: 0.62%\n",
      "PERCENT JUSTIFIED: 0.55%\n",
      "-\n",
      "NAME:  FRANCISCO ARIOSTO HOLANDA\n",
      "ABSTENT: 0.97%\n",
      "PERCENT JUSTIFIED: 1.00%\n",
      "-\n",
      "NAME:  GIOVANI CHERINI\n",
      "ABSTENT: 0.97%\n",
      "PERCENT JUSTIFIED: 0.82%\n",
      "-\n",
      "NAME:  PAULO SALIM MALUF\n",
      "ABSTENT: 0.58%\n",
      "PERCENT JUSTIFIED: 0.55%\n",
      "-\n"
     ]
    },
    {
     "name": "stderr",
     "output_type": "stream",
     "text": [
      "/Users/leportella/.virtualenvs/serenata/lib/python3.6/site-packages/ipykernel_launcher.py:1: DeprecationWarning: generator 'QuerySet._iter_results' raised StopIteration\n",
      "  \"\"\"Entry point for launching an IPython kernel.\n"
     ]
    }
   ],
   "source": [
    "for c in Candidates.objects.filter(sessions_presence__year_2017__abstent_percent__gte=0.5):\n",
    "    name = c.civil_name\n",
    "    abstent = c.sessions_presence.year_2017.abstent_percent\n",
    "    justified = c.sessions_presence.year_2017.abstent_with_justification_percent\n",
    "\n",
    "    print('NAME: ', name)\n",
    "    print('ABSTENT: {0:.2f}%'.format(abstent))\n",
    "    print('PERCENT JUSTIFIED: {0:.2f}%'.format(justified))\n",
    "    print('-')"
   ]
  },
  {
   "cell_type": "markdown",
   "metadata": {},
   "source": [
    "## Elections stats"
   ]
  },
  {
   "cell_type": "code",
<<<<<<< HEAD
   "execution_count": 26,
=======
   "execution_count": 19,
>>>>>>> update insights
   "metadata": {},
   "outputs": [
    {
     "name": "stdout",
     "output_type": "stream",
     "text": [
      "36 person ran for election at least 5 times\n"
     ]
    }
   ],
   "source": [
    "candidates = Candidates.objects.filter(elections__5__exists=True)\n",
    "print('{} person ran for election at least 5 times'.format(len(candidates)))"
   ]
  },
  {
   "cell_type": "code",
<<<<<<< HEAD
   "execution_count": 27,
=======
   "execution_count": 20,
>>>>>>> update insights
   "metadata": {},
   "outputs": [
    {
     "name": "stdout",
     "output_type": "stream",
     "text": [
      "7 person ran for election at least 6 times: \n",
      "\n",
      "MARCELO RAMOS RODRIGUES\n",
      "CLÉCIO LUÍS VILHENA VIEIRA\n",
      "MARIA MARGARIDA MARTINS SALOMÃO\n",
      "LUIZ CANTUARIA BARRETO\n",
      "NEUCIMAR FERREIRA FRAGA\n",
      "ALEXANDRE MARCELO COUTINHO SANTOS\n",
      "HERZEM GUSMÃO PEREIRA\n"
     ]
    }
   ],
   "source": [
    "candidates = Candidates.objects.filter(elections__6__exists=True)\n",
    "print('{} person ran for election at least 6 times: '.format(len(candidates)))\n",
    "print('')\n",
    "\n",
    "for candidate in candidates:\n",
    "    print('{}'.format(candidate.civil_name))"
   ]
  },
  {
   "cell_type": "code",
<<<<<<< HEAD
   "execution_count": 28,
=======
   "execution_count": 21,
>>>>>>> update insights
   "metadata": {},
   "outputs": [
    {
     "name": "stdout",
     "output_type": "stream",
     "text": [
      "3 person ran for election at least 7 times: \n",
      "\n",
      "MARCELO RAMOS RODRIGUES\n",
      "MARIA MARGARIDA MARTINS SALOMÃO\n",
      "NEUCIMAR FERREIRA FRAGA\n"
     ]
    }
   ],
   "source": [
    "candidates = Candidates.objects.filter(elections__7__exists=True)\n",
    "print('{} person ran for election at least 7 times: '.format(len(candidates)))\n",
    "print('')\n",
    "\n",
    "for candidate in candidates:\n",
    "    print('{}'.format(candidate.civil_name))"
   ]
  },
  {
   "cell_type": "code",
<<<<<<< HEAD
   "execution_count": 29,
=======
   "execution_count": 22,
>>>>>>> update insights
   "metadata": {},
   "outputs": [
    {
     "name": "stdout",
     "output_type": "stream",
     "text": [
      "0 person ran for election at least 8 times: \n",
      "\n"
     ]
    }
   ],
   "source": [
    "candidates = Candidates.objects.filter(elections__8__exists=True)\n",
    "print('{} person ran for election at least 8 times: '.format(len(candidates)))\n",
    "print('')\n",
    "\n",
    "for candidate in candidates:\n",
    "    print('{}'.format(candidate.civil_name))"
   ]
  },
  {
   "cell_type": "markdown",
   "metadata": {},
   "source": [
    "## Parties change"
   ]
  },
  {
   "cell_type": "code",
<<<<<<< HEAD
   "execution_count": 32,
=======
   "execution_count": 23,
>>>>>>> update insights
   "metadata": {},
   "outputs": [
    {
     "name": "stdout",
     "output_type": "stream",
     "text": [
<<<<<<< HEAD
      "18 person changed party at least 5 times: \n",
      "\n",
      "ARTHUR DE OLIVEIRA MAIA DA SILVA\n",
=======
      "132 person changed party at least 5 times: \n",
      "\n",
      "ARTHUR DE OLIVEIRA MAIA DA SILVA\n",
      "MARCOS ANTONIO MEDRADO\n",
>>>>>>> update insights
      "JOSÉ ALMEIDA LIMA\n",
      "ANTONIO BALHMANN CARDOSO NUNES FILHO\n",
      "FRANCISCO DANILO BASTOS FORTE\n",
      "ADEMIR CAMILO PRATES RODRIGUES\n",
<<<<<<< HEAD
      "CARLOS EDUARDO CINTRA DA COSTA PEREIRA\n",
      "JORGE SILVA\n",
      "DAMIÃO FELICIANO DA SILVA\n",
      "PAULO ROBERTO GOMES MANSUR\n",
      "CARLOS ALBERTO CAVALCANTE DE SOUZA\n",
      "EDMAR BATISTA MOREIRA\n",
      "AKIRA OTSUBO\n",
      "BRUNO CAMPELO RODRIGUES DE SOUZA\n",
=======
      "RAIMUNDO VALRY DE MORAIS\n",
      "CARLOS EDUARDO CINTRA DA COSTA PEREIRA\n",
      "PAUDERNEY TOMAZ AVELINO\n",
      "JORGE SILVA\n",
      "MARCUS ANTÔNIO VICENTE\n",
      "WALDIR MARANHÃO CARDOSO\n",
      "DAMIÃO FELICIANO DA SILVA\n",
      "HIDEKAZU TAKAYAMA\n",
      "MIRO TEIXEIRA\n",
      "JAIR MESSIAS BOLSONARO\n",
      "MARIA LAURA MONTEZA DE SOUZA CARNEIRO\n",
      "MARIA HELENA VERONESE RODRIGUES\n",
      "PAULO ROBERTO GOMES MANSUR\n",
      "NEILTON MULIM DA COSTA\n",
      "SANDRO MATOS PEREIRA\n",
      "GERVÁSIO JOSÉ DA SILVA\n",
      "SERGIO ANTONIO NECHAR\n",
      "JUNJI ABE\n",
      "JOÃO JOSÉ PEREIRA DE LYRA\n",
      "BENEDITO DE LIRA\n",
      "CARLOS ALBERTO CAVALCANTE DE SOUZA\n",
      "SILAS CÂMARA\n",
      "FELIX DE ALMEIDA MENDONÇA\n",
      "JURANDY LOUREIRO BARROSO\n",
      "CARLOS WILLIAN DE SOUZA\n",
      "EDMAR BATISTA MOREIRA\n",
      "JOÃO LÚCIO MAGALHÃES BIFANO\n",
      "JOSÉ SANTANA DE VASCONCELLOS MOREIRA\n",
      "AKIRA OTSUBO\n",
      "GERSON DOS SANTOS PERES\n",
      "MARCONDES IRAN BENEVIDES GADELHA\n",
      "WILSON LEITE BRAGA\n",
      "BRUNO CAMPELO RODRIGUES DE SOUZA\n",
      "INOCÊNCIO GOMES DE OLIVEIRA\n",
      "AFFONSO ALVES DE CAMARGO NETO\n",
      "ODILIO BALBINOTTI\n",
      "SIMAO SESSIM\n",
      "FRANCISCO DE ASSIS RODRIGUES\n",
      "LUCIANO DE SOUZA CASTRO\n",
      "MARCIO HENRIQUE JUNQUEIRA PEREIRA\n",
      "NELSON GOETTEN DE LIMA\n",
      "ODACIR ZONTA\n",
      "JACKSON BARRETO DE LIMA\n",
      "RICARDO NAGIB IZAR\n",
      "EDSON GONÇALVES SOARES\n",
      "ANTONIO JORGE GODINHO\n",
      "WILSON LEITE PASSOS\n",
>>>>>>> update insights
      "ANTONIO DA CONCEIÇÃO COSTA FERREIRA\n",
      "ÁTILA SIDNEY LINS ALBUQUERQUE\n",
      "ÁTILA FREITAS LIRA\n",
      "ÉDIO VIEIRA LOPES\n",
<<<<<<< HEAD
      "GEORGE HILTON DOS SANTOS CECÍLIO\n"
=======
      "GEORGE HILTON DOS SANTOS CECÍLIO\n",
      "DARCY HUMBERTO MICHILES\n",
      "JOÃO CALDAS DA SILVA\n",
      "JOSÉ CARLOS VIEIRA\n",
      "MÁRIO DE OLIVEIRA\n",
      "MAURÍCIO GONÇALVES TRINDADE\n",
      "ROBERTO EGÍDIO BALESTRA\n",
      "SÉRGIO LUÍS LACERDA BRITO\n",
      "SÍLVIO SERAFIM COSTA\n",
      "JOSÉ VIEIRA LINS\n",
      "AIRTON BERNARDO ROVEDA\n",
      "BENEDITO DE CARVALHO SÁ\n",
      "ANTÔNIO CHARLES LUCENA DE OLIVEIRA MÉLLO\n",
      "FRANCISCO TARQUINIO DALTRO\n",
      "ANTONIO GERALDO DE SOUZA HENRIQUES FILHO\n",
      "JOSÉ LUPÉRCIO RAMOS DE OLIVEIRA\n",
      "PEDRO RIBEIRO FILHO\n",
      "PAULO ROBERTO BAUER\n",
      "ROBERTO MAGALHÃES MELO\n",
      "ROGÉRIO LÚCIO SOARES DA SILVA\n",
      "ALMIR MORAIS SÁ\n",
      "ANTÔNIA MAGALHÃES DA CRUZ\n",
      "ADHEMAR DE BARROS FILHO\n",
      "AÉCIO DE BORBA VASCONCELOS\n",
      "ALCESTE MADEIRA DE ALMEIDA\n",
      "ALMINO MONTEIRO ALVARES AFFONSO\n",
      "FIDÉLIS DOS SANTOS AMARAL NETTO\n",
      "ANTONIO JOAQUIM ARAÚJO FILHO\n",
      "ASSIS CANUTO\n",
      "BASÍLIO VILLANI\n",
      "BENEDITO AUGUSTO DOMINGOS\n",
      "CARLOS ALBERTO DE SOUSA\n",
      "JOSÉ CLEONÂNCIO DA FONSECA\n",
      "MARIA DAS DORES BRAGA NUNES\n",
      "ENIVALDO RIBEIRO\n",
      "EXPEDITO GONÇALVES FERREIRA JUNIOR\n",
      "JOÃO MIGUEL FEU ROSA\n",
      "FLÁVIO PALMIER MARTINS DA VEIGA\n",
      "FRANCISCO OSWALDO NEVES DORNELLES\n",
      "HERÁCLITO DE SOUSA FORTES\n",
      "HUGO SIMÕES LAGRANHA\n",
      "IBERÊ PAIVA FERREIRA DE SOUZA\n",
      "IBRAHIM ABI-ACKEL\n",
      "ISRAEL PINHEIRO FILHO\n",
      "ITAMAR SERPA FERNANDES\n",
      "JAIRO AZI\n",
      "JOÃO BASTOS COLAÇO DIAS\n",
      "JOÃO TOTA SOARES DE FIGUEIREDO\n",
      "JONIVAL LUCAS DA SILVA\n",
      "JOSÉ CARLOS LACERDA\n",
      "JOSÉ LOURENÇO MORAIS DA SILVA\n",
      "LUIZ BUAIZ\n",
      "LUIZ DANTAS LIMA\n",
      "MARISA JOAQUINA MONTEIRO SERRANO\n",
      "FRANCISCO MELQUÍADES NETO\n",
      "MOISÉS BENNESBY\n",
      "ELEOTÉRIO NAN SOUZA\n",
      "NILSON ALFREDO GIBSON DUARTE RODRIGUES\n",
      "OSMAR LEITÃO ROSA\n",
      "PEDRO CHAVES CANEDO\n",
      "PEDRO DA SILVA CORRÊA DE OLIVEIRA ANDRADE NETO\n",
      "RAIMUNDO JOSÉ PEREIRA DOS SANTOS\n",
      "RENATO ANTONIO JOHNSSON\n",
      "ROBERTO LÚCIO ROCHA BRANT\n",
      "JOSÉ EDIMAR RONIVON SANTIAGO DE MELO\n",
      "SEVERINO JOSÉ CAVALCANTI FERREIRA\n",
      "SILVERNANI CÉSAR DOS SANTOS\n",
      "SILVIO PESSOA DE CARVALHO\n",
      "VALDENOR GUEDES SOARES\n",
      "WAGNER DO NASCIMENTO\n",
      "JOSÉ WILSON DA CUNHA\n",
      "ANTÔNIO CARLOS KONDER REIS\n",
      "CARLOS MARQUES DUNGA\n",
      "ITANILDES ORLANDO FERNANDES\n",
      "DIVALDO SURUAGY\n"
>>>>>>> update insights
     ]
    }
   ],
   "source": [
    "candidates = Candidates.objects.filter(parties__5__exists=True)\n",
    "print('{} person changed party at least 5 times: '.format(len(candidates)))\n",
    "print('')\n",
    "\n",
    "for candidate in candidates:\n",
    "    print('{}'.format(candidate.civil_name))"
   ]
  },
  {
   "cell_type": "code",
<<<<<<< HEAD
   "execution_count": 31,
=======
   "execution_count": 24,
>>>>>>> update insights
   "metadata": {},
   "outputs": [
    {
     "name": "stdout",
     "output_type": "stream",
     "text": [
<<<<<<< HEAD
      "9 person changed party at least 6 times: \n",
      "\n",
      "ADEMIR CAMILO PRATES RODRIGUES\n",
      "CARLOS EDUARDO CINTRA DA COSTA PEREIRA\n",
      "JORGE SILVA\n",
      "PAULO ROBERTO GOMES MANSUR\n",
      "CARLOS ALBERTO CAVALCANTE DE SOUZA\n",
      "EDMAR BATISTA MOREIRA\n",
      "ANTONIO DA CONCEIÇÃO COSTA FERREIRA\n",
      "ÁTILA SIDNEY LINS ALBUQUERQUE\n",
      "GEORGE HILTON DOS SANTOS CECÍLIO\n"
=======
      "59 person changed party at least 6 times: \n",
      "\n",
      "MARCOS ANTONIO MEDRADO\n",
      "ADEMIR CAMILO PRATES RODRIGUES\n",
      "CARLOS EDUARDO CINTRA DA COSTA PEREIRA\n",
      "JORGE SILVA\n",
      "MIRO TEIXEIRA\n",
      "JAIR MESSIAS BOLSONARO\n",
      "PAULO ROBERTO GOMES MANSUR\n",
      "SANDRO MATOS PEREIRA\n",
      "SERGIO ANTONIO NECHAR\n",
      "JUNJI ABE\n",
      "CARLOS ALBERTO CAVALCANTE DE SOUZA\n",
      "SILAS CÂMARA\n",
      "FELIX DE ALMEIDA MENDONÇA\n",
      "JURANDY LOUREIRO BARROSO\n",
      "EDMAR BATISTA MOREIRA\n",
      "GERSON DOS SANTOS PERES\n",
      "MARCONDES IRAN BENEVIDES GADELHA\n",
      "WILSON LEITE BRAGA\n",
      "AFFONSO ALVES DE CAMARGO NETO\n",
      "ODILIO BALBINOTTI\n",
      "SIMAO SESSIM\n",
      "MARCIO HENRIQUE JUNQUEIRA PEREIRA\n",
      "RICARDO NAGIB IZAR\n",
      "ANTONIO JORGE GODINHO\n",
      "WILSON LEITE PASSOS\n",
      "ANTONIO DA CONCEIÇÃO COSTA FERREIRA\n",
      "ÁTILA SIDNEY LINS ALBUQUERQUE\n",
      "GEORGE HILTON DOS SANTOS CECÍLIO\n",
      "DARCY HUMBERTO MICHILES\n",
      "JOÃO CALDAS DA SILVA\n",
      "MÁRIO DE OLIVEIRA\n",
      "MAURÍCIO GONÇALVES TRINDADE\n",
      "SÉRGIO LUÍS LACERDA BRITO\n",
      "AIRTON BERNARDO ROVEDA\n",
      "ANTONIO GERALDO DE SOUZA HENRIQUES FILHO\n",
      "JOSÉ LUPÉRCIO RAMOS DE OLIVEIRA\n",
      "ROGÉRIO LÚCIO SOARES DA SILVA\n",
      "ALMIR MORAIS SÁ\n",
      "ALCESTE MADEIRA DE ALMEIDA\n",
      "ANTONIO JOAQUIM ARAÚJO FILHO\n",
      "ASSIS CANUTO\n",
      "BASÍLIO VILLANI\n",
      "JOSÉ CLEONÂNCIO DA FONSECA\n",
      "MARIA DAS DORES BRAGA NUNES\n",
      "HUGO SIMÕES LAGRANHA\n",
      "ISRAEL PINHEIRO FILHO\n",
      "JAIRO AZI\n",
      "JOÃO BASTOS COLAÇO DIAS\n",
      "JOSÉ CARLOS LACERDA\n",
      "LUIZ DANTAS LIMA\n",
      "MOISÉS BENNESBY\n",
      "ELEOTÉRIO NAN SOUZA\n",
      "OSMAR LEITÃO ROSA\n",
      "RENATO ANTONIO JOHNSSON\n",
      "JOSÉ EDIMAR RONIVON SANTIAGO DE MELO\n",
      "SEVERINO JOSÉ CAVALCANTI FERREIRA\n",
      "VALDENOR GUEDES SOARES\n",
      "JOSÉ WILSON DA CUNHA\n",
      "ITANILDES ORLANDO FERNANDES\n"
>>>>>>> update insights
     ]
    }
   ],
   "source": [
    "candidates = Candidates.objects.filter(parties__6__exists=True)\n",
    "print('{} person changed party at least 6 times: '.format(len(candidates)))\n",
    "print('')\n",
    "\n",
    "for candidate in candidates:\n",
    "    print('{}'.format(candidate.civil_name))"
   ]
  },
  {
   "cell_type": "code",
<<<<<<< HEAD
   "execution_count": 30,
=======
   "execution_count": 25,
>>>>>>> update insights
   "metadata": {},
   "outputs": [
    {
     "name": "stdout",
     "output_type": "stream",
     "text": [
<<<<<<< HEAD
      "3 person changed party at least 7 times: \n",
      "\n",
      "ADEMIR CAMILO PRATES RODRIGUES\n",
      "EDMAR BATISTA MOREIRA\n",
      "ANTONIO DA CONCEIÇÃO COSTA FERREIRA\n"
=======
      "27 person changed party at least 7 times: \n",
      "\n",
      "MARCOS ANTONIO MEDRADO\n",
      "ADEMIR CAMILO PRATES RODRIGUES\n",
      "MIRO TEIXEIRA\n",
      "JAIR MESSIAS BOLSONARO\n",
      "SANDRO MATOS PEREIRA\n",
      "SILAS CÂMARA\n",
      "FELIX DE ALMEIDA MENDONÇA\n",
      "EDMAR BATISTA MOREIRA\n",
      "WILSON LEITE BRAGA\n",
      "AFFONSO ALVES DE CAMARGO NETO\n",
      "SIMAO SESSIM\n",
      "MARCIO HENRIQUE JUNQUEIRA PEREIRA\n",
      "RICARDO NAGIB IZAR\n",
      "ANTONIO DA CONCEIÇÃO COSTA FERREIRA\n",
      "DARCY HUMBERTO MICHILES\n",
      "JOÃO CALDAS DA SILVA\n",
      "AIRTON BERNARDO ROVEDA\n",
      "JOSÉ LUPÉRCIO RAMOS DE OLIVEIRA\n",
      "ALCESTE MADEIRA DE ALMEIDA\n",
      "ASSIS CANUTO\n",
      "JOSÉ CLEONÂNCIO DA FONSECA\n",
      "MARIA DAS DORES BRAGA NUNES\n",
      "JOSÉ CARLOS LACERDA\n",
      "RENATO ANTONIO JOHNSSON\n",
      "JOSÉ EDIMAR RONIVON SANTIAGO DE MELO\n",
      "SEVERINO JOSÉ CAVALCANTI FERREIRA\n",
      "ITANILDES ORLANDO FERNANDES\n"
>>>>>>> update insights
     ]
    }
   ],
   "source": [
    "candidates = Candidates.objects.filter(parties__7__exists=True)\n",
    "print('{} person changed party at least 7 times: '.format(len(candidates)))\n",
    "print('')\n",
    "\n",
    "for candidate in candidates:\n",
    "    print('{}'.format(candidate.civil_name))"
   ]
  }
 ],
 "metadata": {
  "kernelspec": {
   "display_name": "Python 3",
   "language": "python",
   "name": "python3"
  },
  "language_info": {
   "codemirror_mode": {
    "name": "ipython",
    "version": 3
   },
   "file_extension": ".py",
   "mimetype": "text/x-python",
   "name": "python",
   "nbconvert_exporter": "python",
   "pygments_lexer": "ipython3",
   "version": "3.6.1"
  }
 },
 "nbformat": 4,
 "nbformat_minor": 2
}
